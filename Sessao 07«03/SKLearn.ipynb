{
 "cells": [
  {
   "cell_type": "markdown",
   "metadata": {},
   "source": [
    "# Scikit-learn - The number one python ML library!\n",
    "\n",
    "- Incredibly robust tool\n",
    "- Consistent code style\n",
    "- Widely supported by third-party tools\n"
   ]
  },
  {
   "cell_type": "code",
   "execution_count": 1,
   "metadata": {},
   "outputs": [
    {
     "name": "stdout",
     "output_type": "stream",
     "text": [
      "Requirement already satisfied: scikit-learn in c:\\users\\rita.sousa\\anaconda3\\lib\\site-packages (0.23.2)\n",
      "Requirement already satisfied: numpy>=1.13.3 in c:\\users\\rita.sousa\\anaconda3\\lib\\site-packages (from scikit-learn) (1.19.2)\n",
      "Requirement already satisfied: scipy>=0.19.1 in c:\\users\\rita.sousa\\anaconda3\\lib\\site-packages (from scikit-learn) (1.5.2)\n",
      "Requirement already satisfied: threadpoolctl>=2.0.0 in c:\\users\\rita.sousa\\anaconda3\\lib\\site-packages (from scikit-learn) (2.1.0)\n",
      "Requirement already satisfied: joblib>=0.11 in c:\\users\\rita.sousa\\anaconda3\\lib\\site-packages (from scikit-learn) (0.17.0)\n"
     ]
    }
   ],
   "source": [
    "#to install\n",
    "!pip install scikit-learn"
   ]
  },
  {
   "cell_type": "markdown",
   "metadata": {},
   "source": [
    "<br>\n",
    "\n",
    "**The Scikit-learn library provides a very large variety of pre-built algorithms to perform both supervised and unsupervised machine learning. The estimator you choose for your project will depend on the data set you have and the problem that you are trying to solve.**\n",
    "\n",
    "\n",
    "To help you find out which type of algorithm you need for your problem, you have the help of the Algorithm cheat-sheet provided by scikit-learn documentation.\n",
    "\n",
    "<img src=\"https://miro.medium.com/max/875/1*k67P_Lh18fp2WCIJph1HHw.png\" alt=\"Scikit-learn documentation\" title=\"Algorithm cheat-sheet\" />"
   ]
  },
  {
   "cell_type": "code",
   "execution_count": 2,
   "metadata": {},
   "outputs": [],
   "source": [
    "import warnings; warnings.simplefilter('ignore')"
   ]
  },
  {
   "cell_type": "markdown",
   "metadata": {},
   "source": [
    "<br>\n",
    "\n",
    "### **1. Supervised learning**\n",
    "<br>\n",
    "\n",
    "Supervised learning includes:\n",
    "- **Classification**, where samples belong to two or more classes, and we want to learn from already labeled data on how to predict the class of unlabeled data. \n",
    "- **Regression**, where the desired output consists of one or more continuous variables. "
   ]
  },
  {
   "cell_type": "markdown",
   "metadata": {},
   "source": [
    "\n",
    "So let's start with a **multi-classification** problem. We will use a well-known scikit-learn dataset, the Wine dataset. \n",
    "<br>\n",
    "\n",
    "This dataset is the results of a chemical analysis of wines grown in the same region in Italy by three different cultivators. There are thirteen different measurements taken for different constituents found in the three types of wine.\n",
    "<br>"
   ]
  },
  {
   "cell_type": "code",
   "execution_count": 3,
   "metadata": {},
   "outputs": [
    {
     "name": "stdout",
     "output_type": "stream",
     "text": [
      "Features Names:  ['alcohol', 'malic_acid', 'ash', 'alcalinity_of_ash', 'magnesium', 'total_phenols', 'flavanoids', 'nonflavanoid_phenols', 'proanthocyanins', 'color_intensity', 'hue', 'od280/od315_of_diluted_wines', 'proline']\n",
      "Categories:  ['class_0' 'class_1' 'class_2']\n"
     ]
    }
   ],
   "source": [
    "from sklearn.datasets import load_wine\n",
    "\n",
    "data = load_wine()\n",
    "X =  data.data\n",
    "y = data.target\n",
    "\n",
    "print('Features Names: ', data.feature_names)\n",
    "print('Categories: ', data.target_names)"
   ]
  },
  {
   "cell_type": "markdown",
   "metadata": {},
   "source": [
    "<br>\n",
    "\n",
    "As our first try, we should go for the simplest approach, a regression based algorithm. As we already know, scikit-learn has an implementation of this algorithm so we just have to import it and save it to a variable so it can be used after. "
   ]
  },
  {
   "cell_type": "code",
   "execution_count": 4,
   "metadata": {},
   "outputs": [],
   "source": [
    "from sklearn.linear_model import LogisticRegression\n",
    "\n",
    "lr = LogisticRegression()"
   ]
  },
  {
   "cell_type": "markdown",
   "metadata": {},
   "source": [
    "<br>\n",
    "\n",
    "Now we have to **fit** our model to our data. Bear in mind that a regression based algorithm is something like **y = a + b*x**. \n",
    "<img src=\"https://miro.medium.com/max/750/1*g8ZIY6-GEsYY3XqBqICvHw.png\" title=\"Regression\">\n",
    "\n",
    "In one hand, when we are trying to predict a number (regression problem) the y is going to be our predicted value, while in the other hand, when we are trying to predict a class (classification problem) the y is going to be the probability of a certain observation belongs to each class. This means that the algorithm needs to learn the weights (**a** and **b**) that best describe our problem. For every algorithm, scikit-learn has an implementation of a **fit()** method.\n",
    "<br>\n",
    "\n",
    "But before fitting our model, it is also important to have a way to eval it's performance. To ensure that, we are going to divide our data into two subsets, a train and a test, which will be used for model training (fitting) and evaluation respectively. And obviously there is a method already implemented in scikit-learn for that!\n"
   ]
  },
  {
   "cell_type": "code",
   "execution_count": 5,
   "metadata": {},
   "outputs": [],
   "source": [
    "from sklearn.model_selection import train_test_split\n",
    "\n",
    "X_train, X_test, y_train, y_test = train_test_split(X, y, random_state=0)\n",
    "\n",
    "model = lr.fit(X_train, y_train)"
   ]
  },
  {
   "cell_type": "markdown",
   "metadata": {},
   "source": [
    "<br>\n",
    "\n",
    "After training the model, we need to predict and eval our model. \n",
    "<br>\n",
    "\n",
    "In terms of prediction, scikit-learn has two important methods. The first is **predict_proba()** which returns an array with the probabilities of an observation belongs to each one of the three classes. The second **predict()** which returns the class most likely for each observation. "
   ]
  },
  {
   "cell_type": "code",
   "execution_count": 6,
   "metadata": {},
   "outputs": [
    {
     "name": "stdout",
     "output_type": "stream",
     "text": [
      "First five predictions:  [0 2 1 0 1]\n"
     ]
    }
   ],
   "source": [
    "predictions = model.predict(X_test)\n",
    "print('First five predictions: ', predictions[:5])"
   ]
  },
  {
   "cell_type": "markdown",
   "metadata": {},
   "source": [
    "There are several metric implementation on scikit-learn, you can consult it on [sklearn.metrics](https://scikit-learn.org/stable/modules/model_evaluation.html). As example we are going to calculate accuracy."
   ]
  },
  {
   "cell_type": "code",
   "execution_count": 7,
   "metadata": {},
   "outputs": [
    {
     "name": "stdout",
     "output_type": "stream",
     "text": [
      "Logistic Regression Accuracy:  0.9333333333333333\n"
     ]
    }
   ],
   "source": [
    "from sklearn.metrics import accuracy_score\n",
    "\n",
    "acc = accuracy_score(y_test, predictions)\n",
    "\n",
    "print('Logistic Regression Accuracy: ', acc)"
   ]
  },
  {
   "cell_type": "markdown",
   "metadata": {},
   "source": [
    "<br>\n",
    "\n",
    "Now, let's try another algorithm, **Random Forest Classifier** for example, and see if it works best. "
   ]
  },
  {
   "cell_type": "code",
   "execution_count": 8,
   "metadata": {},
   "outputs": [
    {
     "name": "stdout",
     "output_type": "stream",
     "text": [
      "Random Forest Classifier Accuracy:  0.9777777777777777\n"
     ]
    }
   ],
   "source": [
    "from sklearn.ensemble import RandomForestClassifier\n",
    "\n",
    "rf = RandomForestClassifier()\n",
    "rf_model = rf.fit(X_train, y_train)\n",
    "rf_predictions = rf_model.predict(X_test)\n",
    "rf_acc = accuracy_score(y_test, rf_predictions)\n",
    "\n",
    "print('Random Forest Classifier Accuracy: ', rf_acc)"
   ]
  },
  {
   "cell_type": "markdown",
   "metadata": {},
   "source": [
    "<br>\n",
    "\n",
    "### **2. Unsupervised learning** \n",
    "<br>\n",
    "\n",
    "So, what does scikit learn offers us in unsupervised algorithms? It offers a wide range of different algorithms that you can check [here](https://scikit-learn.org/stable/modules/clustering.html#clustering).\n",
    "\n",
    "Today, we are going to look at one of the most common unsupervised learning problems, which is **Clustering**, where the goal is to discover groups of similar examples within the data.<br>\n",
    "<img src=\"https://miro.medium.com/max/875/1*gBo_z-hWaT0qQMSea9X6Lg.png\">\n"
   ]
  },
  {
   "cell_type": "markdown",
   "metadata": {},
   "source": [
    "As mentioned before, one of the biggest advantages of scikit-learn is consistency in the code. This means that independently of the problem type, the usability of methods and functions, is the same.<br>\n",
    "\n",
    "As dataset, we are going to create a random array of sets of two coordinates."
   ]
  },
  {
   "cell_type": "code",
   "execution_count": 9,
   "metadata": {},
   "outputs": [],
   "source": [
    "import numpy as np    \n",
    "\n",
    "X = np.array([[1, 2], [1, 4], [1, 0], [4, 2], [4, 4], [4, 0]])"
   ]
  },
  {
   "cell_type": "markdown",
   "metadata": {},
   "source": [
    "<br>Then we select our algorithm. In this example we are going to use **KMeans** which is one of the most famous ones. The main idea is to define k centroids, one for each cluster. These centroids should be placed very carefully because of different location it causes different result. So, the better choice is to place them as much as possible far away from each other. The next step is to take each point belonging to a given data set and associate it to the nearest centroid. When no point is pending, the first step is completed. At this point we need to re-calculate k new centroids and so on which will finally lead to the final clusters.\n",
    "\n",
    "<img src=\"https://miro.medium.com/max/875/1*nkZ6MyngGnXD6DihAfXfPA.jpeg\">"
   ]
  },
  {
   "cell_type": "code",
   "execution_count": 10,
   "metadata": {},
   "outputs": [
    {
     "name": "stdout",
     "output_type": "stream",
     "text": [
      "Observations being labeled:  [[1, 2], [1, 4], [1, 0], [4, 2], [4, 4], [4, 0]]\n",
      "After fitting labels:  [1 0 1 0 0 1]\n",
      "Clusters Centers:  [[3.0, 3.333333333333333], [2.0, 0.6666666666666667]]\n"
     ]
    }
   ],
   "source": [
    "from sklearn.cluster import KMeans \n",
    "\n",
    "kmeans = KMeans(n_clusters=2,random_state=0)\n",
    "kmeans = kmeans.fit(X)\n",
    "\n",
    "print('Observations being labeled: ', X.tolist())\n",
    "print('After fitting labels: ', kmeans.labels_)    \n",
    "print('Clusters Centers: ', kmeans.cluster_centers_.tolist() )"
   ]
  },
  {
   "cell_type": "code",
   "execution_count": 11,
   "metadata": {},
   "outputs": [
    {
     "name": "stdout",
     "output_type": "stream",
     "text": [
      "New points Clusters:  [1 1]\n"
     ]
    }
   ],
   "source": [
    "km_predictions = kmeans.predict([[1, 1], [4, 0]])\n",
    "\n",
    "print('New points Clusters: ',km_predictions)"
   ]
  },
  {
   "cell_type": "markdown",
   "metadata": {},
   "source": [
    "<br>\n",
    "\n",
    "### **3. Data Problems and Preprocessing**\n",
    "\n",
    "In most real-world machine learning projects the data that you use, will not necessarily be ready to train a model. It is highly likely that you will first need to perform some data preprocessing and transformation steps such as handling missing values, transforming categorical data into numeric or applying feature scaling.\n",
    "Scikit-learn has built-in methods to perform these preprocessing steps. For example, the **SimpleImputer()** fills in missing values using a method of your choice.\n",
    "\n",
    "To learn more look in [Preprocessing data](https://scikit-learn.org/stable/modules/preprocessing.html)."
   ]
  },
  {
   "cell_type": "code",
   "execution_count": 12,
   "metadata": {},
   "outputs": [],
   "source": [
    "from sklearn.impute import SimpleImputer\n",
    "\n",
    "imputer = SimpleImputer(strategy='median')\n",
    "imputer.fit(X_train)\n",
    "\n",
    "X_train_clean = imputer.transform(X_train)\n",
    "X_test_clean = imputer.transform(X_test)"
   ]
  },
  {
   "cell_type": "code",
   "execution_count": 13,
   "metadata": {},
   "outputs": [
    {
     "name": "stdout",
     "output_type": "stream",
     "text": [
      "Random Forest Classifier Accuracy:  1.0\n"
     ]
    }
   ],
   "source": [
    "from sklearn.ensemble import RandomForestClassifier\n",
    "\n",
    "rf = RandomForestClassifier()\n",
    "rf_model = rf.fit(X_train_clean, y_train)\n",
    "rf_predictions = rf_model.predict(X_test_clean)\n",
    "rf_acc = accuracy_score(y_test, rf_predictions)\n",
    "\n",
    "print('Random Forest Classifier Accuracy: ', rf_acc)"
   ]
  },
  {
   "cell_type": "markdown",
   "metadata": {},
   "source": [
    "<br> \n",
    "\n",
    "\n",
    "### **4. Feature Importance**\n",
    "\n",
    "Feature importance measures the direction and level of impact of each feature in the output of our model. This analysis is very important in terms of model results **interpretability**, for example, in cases where there is bias in data, either training or testing. \n",
    "\n",
    "An highlight to the fact that some model biases are socially or legally unacceptable. For example, if your model works well in the real world because it implicitly profiles people based on ethnicity. If you want to learn more into this type of bias look into [fairness](https://towardsdatascience.com/a-tutorial-on-fairness-in-machine-learning-3ff8ba1040cb). However, we are more interested in the good king of bias that helps our models to achieve good outcomes. "
   ]
  },
  {
   "cell_type": "code",
   "execution_count": 14,
   "metadata": {},
   "outputs": [
    {
     "data": {
      "text/plain": [
       "<BarContainer object of 13 artists>"
      ]
     },
     "execution_count": 14,
     "metadata": {},
     "output_type": "execute_result"
    },
    {
     "data": {
      "image/png": "[encoded data removed]",
      "text/plain": [
       "<Figure size 720x288 with 1 Axes>"
      ]
     },
     "metadata": {
      "needs_background": "light"
     },
     "output_type": "display_data"
    }
   ],
   "source": [
    "from matplotlib import pyplot\n",
    "\n",
    "# Logistic regression feature importance is analysed in terms of each classification category, \n",
    "# so by selecting the first elemnt of the array we are analysing the feature importance in the first classification category.\n",
    "lr_feat_imp = lr.coef_[0] \n",
    "\n",
    "pyplot.figure(figsize=(10,4))\n",
    "pyplot.title(\"Feature importances (Logistic Regression)\")\n",
    "pyplot.xticks(rotation=35, ha=\"right\")\n",
    "pyplot.bar(data.feature_names, lr_feat_imp)"
   ]
  },
  {
   "cell_type": "code",
   "execution_count": 15,
   "metadata": {},
   "outputs": [
    {
     "data": {
      "text/plain": [
       "<BarContainer object of 13 artists>"
      ]
     },
     "execution_count": 15,
     "metadata": {},
     "output_type": "execute_result"
    },
    {
     "data": {
      "image/png": "[encoded data removed]",
      "text/plain": [
       "<Figure size 720x288 with 1 Axes>"
      ]
     },
     "metadata": {
      "needs_background": "light"
     },
     "output_type": "display_data"
    }
   ],
   "source": [
    "# Random Forest Feature Importance\n",
    "\n",
    "rf_feat_imp = rf.feature_importances_\n",
    "\n",
    "pyplot.figure(figsize=(10,4))\n",
    "pyplot.title(\"Feature importances (Random Forest)\")\n",
    "pyplot.xticks(rotation=35, ha=\"right\")\n",
    "pyplot.bar(data.feature_names, rf_feat_imp)\n"
   ]
  },
  {
   "cell_type": "markdown",
   "metadata": {},
   "source": [
    "<br>\n",
    "\n",
    "### **5. Model Selection**\n",
    "\n",
    "All estimators in the Scikit-learn library contain a range of parameters, for which there are multiple options. The values that you choose for a particular algorithm will impact how well the final model performs. For example, with the RandomForestClassifier you can set the max_depth of the tree to potentially any value, and depending on your data and task, different values for this parameter will produce different results.\n",
    "This process of trying different combinations of parameters to find the optimal combination is known as **hyperparameter optimization**.\n",
    "Scikit-learn provides two tools to automatically perform this task, **GridSearchCV** which implements a technique known as exhaustive grid search and **RandomizedSearchCV** which performs randomized parameter optimization.\n",
    "\n",
    "To look into the available parameters you can call the **get_params()** method."
   ]
  },
  {
   "cell_type": "code",
   "execution_count": 16,
   "metadata": {},
   "outputs": [
    {
     "data": {
      "text/plain": [
       "{'C': 1.0,\n",
       " 'class_weight': None,\n",
       " 'dual': False,\n",
       " 'fit_intercept': True,\n",
       " 'intercept_scaling': 1,\n",
       " 'l1_ratio': None,\n",
       " 'max_iter': 100,\n",
       " 'multi_class': 'auto',\n",
       " 'n_jobs': None,\n",
       " 'penalty': 'l2',\n",
       " 'random_state': None,\n",
       " 'solver': 'lbfgs',\n",
       " 'tol': 0.0001,\n",
       " 'verbose': 0,\n",
       " 'warm_start': False}"
      ]
     },
     "execution_count": 16,
     "metadata": {},
     "output_type": "execute_result"
    }
   ],
   "source": [
    "LogisticRegression().get_params()"
   ]
  },
  {
   "cell_type": "code",
   "execution_count": 17,
   "metadata": {},
   "outputs": [
    {
     "data": {
      "text/plain": [
       "{'bootstrap': True,\n",
       " 'ccp_alpha': 0.0,\n",
       " 'class_weight': None,\n",
       " 'criterion': 'gini',\n",
       " 'max_depth': None,\n",
       " 'max_features': 'auto',\n",
       " 'max_leaf_nodes': None,\n",
       " 'max_samples': None,\n",
       " 'min_impurity_decrease': 0.0,\n",
       " 'min_impurity_split': None,\n",
       " 'min_samples_leaf': 1,\n",
       " 'min_samples_split': 2,\n",
       " 'min_weight_fraction_leaf': 0.0,\n",
       " 'n_estimators': 100,\n",
       " 'n_jobs': None,\n",
       " 'oob_score': False,\n",
       " 'random_state': None,\n",
       " 'verbose': 0,\n",
       " 'warm_start': False}"
      ]
     },
     "execution_count": 17,
     "metadata": {},
     "output_type": "execute_result"
    }
   ],
   "source": [
    "RandomForestClassifier().get_params()"
   ]
  },
  {
   "cell_type": "code",
   "execution_count": 18,
   "metadata": {},
   "outputs": [
    {
     "name": "stdout",
     "output_type": "stream",
     "text": [
      "{'criterion': 'entropy', 'max_depth': 4, 'max_features': 'sqrt', 'n_estimators': 50}\n",
      "0.9777777777777779\n"
     ]
    }
   ],
   "source": [
    "from sklearn.model_selection import GridSearchCV\n",
    "\n",
    "param_grid = {'n_estimators': [50, 100],\n",
    "    'max_features': ['auto', 'sqrt', 'log2'],\n",
    "    'max_depth' : [4,5],\n",
    "    'criterion' :['gini', 'entropy']\n",
    "    }\n",
    "\n",
    "rf = RandomForestClassifier()\n",
    "CV = GridSearchCV(rf, param_grid, n_jobs= 1)\n",
    "                  \n",
    "CV.fit(X_train, y_train)  \n",
    "print(CV.best_params_)    \n",
    "print(CV.best_score_)"
   ]
  },
  {
   "cell_type": "markdown",
   "metadata": {},
   "source": [
    "### **6. Pipelines**\n",
    "\n",
    "The Scikit-learn package provides a further convenient form of code encapsulation in the form of **pipelines**. This tool enables all preprocessing tasks to be chained together with the classifier step so that simply calling **fit()** or **predict()** on a single pipeline object performs all the steps in your workflow.\n",
    "This makes for highly readable code and reduces repetition of steps in your machine learning workflow."
   ]
  },
  {
   "cell_type": "code",
   "execution_count": 19,
   "metadata": {},
   "outputs": [],
   "source": [
    "from sklearn.pipeline import Pipeline\n",
    "from sklearn.preprocessing import StandardScaler\n",
    "from sklearn.impute import SimpleImputer\n",
    "\n",
    "pipeline = Pipeline([('Imput', SimpleImputer(strategy='median')),\n",
    "                        ('Scale', StandardScaler()),       \n",
    "                        ('Model', LogisticRegression())\n",
    "                    ])"
   ]
  },
  {
   "cell_type": "code",
   "execution_count": 20,
   "metadata": {},
   "outputs": [
    {
     "name": "stdout",
     "output_type": "stream",
     "text": [
      "Pipeline Accuracy:  1.0\n"
     ]
    }
   ],
   "source": [
    "pipeline.fit(X_train, y_train)\n",
    "y_pred = pipeline.predict(X_test)\n",
    "\n",
    "pip_acc = accuracy_score(y_test, y_pred)\n",
    "\n",
    "print('Pipeline Accuracy: ', pip_acc)"
   ]
  },
  {
   "cell_type": "code",
   "execution_count": 21,
   "metadata": {},
   "outputs": [
    {
     "data": {
      "text/plain": [
       "<BarContainer object of 13 artists>"
      ]
     },
     "execution_count": 21,
     "metadata": {},
     "output_type": "execute_result"
    },
    {
     "data": {
      "image/png": "[encoded data removed]",
      "text/plain": [
       "<Figure size 720x288 with 1 Axes>"
      ]
     },
     "metadata": {
      "needs_background": "light"
     },
     "output_type": "display_data"
    }
   ],
   "source": [
    "# Feature Importenace from our Pipeline \n",
    "lr_feat_imp = pipeline.named_steps['Model'].coef_[0]\n",
    "\n",
    "pyplot.figure(figsize=(10,4))\n",
    "pyplot.title(\"Feature importances (Logistic Regression)\")\n",
    "pyplot.xticks(rotation=35, ha=\"right\")\n",
    "pyplot.bar(data.feature_names, lr_feat_imp)"
   ]
  },
  {
   "cell_type": "markdown",
   "metadata": {},
   "source": [
    "We can also do grid search using our pipeline."
   ]
  },
  {
   "cell_type": "code",
   "execution_count": 22,
   "metadata": {},
   "outputs": [
    {
     "name": "stdout",
     "output_type": "stream",
     "text": [
      "Best Parameters:  {'criterion': 'gini', 'max_depth': 4, 'max_features': 'auto', 'n_estimators': 100}\n",
      "Best Estimator:  RandomForestClassifier(max_depth=4)\n",
      "Best Score:  0.9774928774928775\n"
     ]
    }
   ],
   "source": [
    "param_grid = {'n_estimators': [50, 100],\n",
    "    'max_features': ['auto', 'sqrt', 'log2'],\n",
    "    'max_depth' : [4,5],\n",
    "    'criterion' :['gini', 'entropy']\n",
    "    }\n",
    "\n",
    "rf = RandomForestClassifier()\n",
    "\n",
    "pipeline_grid = Pipeline([('Imput', SimpleImputer(strategy='median')),\n",
    "                        ('Scale', StandardScaler()),       \n",
    "                        ('GridSearch', GridSearchCV(rf, param_grid, n_jobs= 1))\n",
    "                    ])\n",
    "                 \n",
    "pipeline_grid.fit(X_train, y_train)  \n",
    "\n",
    "CV = pipeline_grid.named_steps['GridSearch']\n",
    "\n",
    "print('Best Parameters: ', CV.best_params_)  \n",
    "print('Best Estimator: ', CV.best_estimator_)\n",
    "print('Best Score: ',CV.best_score_)"
   ]
  },
  {
   "cell_type": "markdown",
   "metadata": {},
   "source": [
    "<br>\n",
    "\n",
    "### **7. Save and Load**\n",
    "\n",
    "When in production, we are not going to train our model every time we want to make a prediction. That said, there is a way of saving our trained model and then loaded it when needed."
   ]
  },
  {
   "cell_type": "code",
   "execution_count": 23,
   "metadata": {},
   "outputs": [
    {
     "name": "stdout",
     "output_type": "stream",
     "text": [
      "Saving the pipeline ...\n"
     ]
    },
    {
     "data": {
      "text/plain": [
       "['pipeline.pickle']"
      ]
     },
     "execution_count": 23,
     "metadata": {},
     "output_type": "execute_result"
    }
   ],
   "source": [
    "import joblib\n",
    "\n",
    "print('Saving the pipeline ...')\n",
    "joblib.dump(pipeline, 'pipeline.pickle')"
   ]
  },
  {
   "cell_type": "code",
   "execution_count": 24,
   "metadata": {},
   "outputs": [
    {
     "name": "stdout",
     "output_type": "stream",
     "text": [
      "Loading the pipeline ...\n",
      "Pipeline(steps=[('Imput', SimpleImputer(strategy='median')),\n",
      "                ('Scale', StandardScaler()), ('Model', LogisticRegression())])\n"
     ]
    }
   ],
   "source": [
    "print('Loading the pipeline ...')\n",
    "model = joblib.load('pipeline.pickle')\n",
    "print(model)"
   ]
  },
  {
   "cell_type": "markdown",
   "metadata": {},
   "source": [
    "<br>\n",
    "\n",
    "### **8. Further Reading**\n",
    "\n",
    "- [Model Selection and Evaluation](https://scikit-learn.org/stable/model_selection.html#model-selection)  \n",
    "    - specially [Cross Val Score](https://scikit-learn.org/stable/modules/generated/sklearn.model_selection.cross_val_score.html) <br>\n",
    "- [Dimensionality Reduction](https://scikit-learn.org/stable/modules/decomposition.html#decompositions)\n",
    "\n",
    "<br>\n",
    "\n",
    "Outside Scikit-Learn but very usefull for Exploratory Data Analysis. \n",
    "- [Bamboolib](https://bamboolib.8080labs.com/) <br>\n",
    "\n"
   ]
  }
 ],
 "metadata": {
  "kernelspec": {
   "display_name": "Python 3",
   "language": "python",
   "name": "python3"
  },
  "language_info": {
   "codemirror_mode": {
    "name": "ipython",
    "version": 3
   },
   "file_extension": ".py",
   "mimetype": "text/x-python",
   "name": "python",
   "nbconvert_exporter": "python",
   "pygments_lexer": "ipython3",
   "version": "3.8.5"
  }
 },
 "nbformat": 4,
 "nbformat_minor": 4
}
